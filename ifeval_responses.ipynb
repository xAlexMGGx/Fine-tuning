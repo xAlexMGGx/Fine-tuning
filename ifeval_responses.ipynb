{
 "cells": [
  {
   "cell_type": "code",
   "execution_count": 1,
   "metadata": {},
   "outputs": [],
   "source": [
    "from transformers import AutoTokenizer, AutoModelForCausalLM\n",
    "from datasets import load_dataset\n",
    "import torch\n",
    "import json\n",
    "from tqdm import tqdm"
   ]
  },
  {
   "cell_type": "code",
   "execution_count": 2,
   "metadata": {},
   "outputs": [
    {
     "data": {
      "application/vnd.jupyter.widget-view+json": {
       "model_id": "985eb58df73d40fbb5d304f4c58166f4",
       "version_major": 2,
       "version_minor": 0
      },
      "text/plain": [
       "Loading checkpoint shards:   0%|          | 0/3 [00:00<?, ?it/s]"
      ]
     },
     "metadata": {},
     "output_type": "display_data"
    }
   ],
   "source": [
    "# Step 1: Load the tokenizer and model with quantization\n",
    "# model_name = \"Qwen/Qwen2.5-0.5B-Instruct\"  # Near 3B model (smallest available Qwen model)\n",
    "model_path = 'v2_mistral7b_results/checkpoint-100'\n",
    "device = torch.device('cuda' if torch.cuda.is_available() else 'cpu')\n",
    "tokenizer = AutoTokenizer.from_pretrained(model_path, trust_remote_code=True)\n",
    "model = AutoModelForCausalLM.from_pretrained(\n",
    "    model_path,\n",
    "    device_map=device,\n",
    "    trust_remote_code=True\n",
    ")"
   ]
  },
  {
   "cell_type": "code",
   "execution_count": 3,
   "metadata": {},
   "outputs": [],
   "source": [
    "# Step 2: Load the google/IFEval dataset\n",
    "dataset = load_dataset(\"google/IFEval\")"
   ]
  },
  {
   "cell_type": "code",
   "execution_count": null,
   "metadata": {},
   "outputs": [
    {
     "name": "stderr",
     "output_type": "stream",
     "text": [
      "  0%|          | 0/541 [00:00<?, ?it/s]The attention mask and the pad token id were not set. As a consequence, you may observe unexpected behavior. Please pass your input's `attention_mask` to obtain reliable results.\n",
      "Setting `pad_token_id` to `eos_token_id`:None for open-end generation.\n",
      "The attention mask is not set and cannot be inferred from input because pad token is same as eos token. As a consequence, you may observe unexpected behavior. Please pass your input's `attention_mask` to obtain reliable results.\n",
      "Starting from v4.46, the `logits` model output will have the same type as the model (except at train time, where it will always be FP32)\n"
     ]
    }
   ],
   "source": [
    "# Step 3: Generate predictions on the dataset\n",
    "output_file = \"model_responses.jsonl\"\n",
    "with open(output_file, 'w', encoding='utf-8') as f_out:\n",
    "    for sample in tqdm(dataset['train']):   # Use 'validation' or 'train' split if 'test' is not available\n",
    "        input_text = sample['prompt']  # Adjust the field name based on the dataset's structure\n",
    "\n",
    "        # Prepare the input prompt\n",
    "        prompt = input_text\n",
    "\n",
    "        # Tokenize input\n",
    "        inputs = tokenizer.encode(prompt, return_tensors=\"pt\").to(device)\n",
    "\n",
    "        # Generate output\n",
    "        outputs = model.generate(\n",
    "            inputs,\n",
    "            max_length=256,\n",
    "            eos_token_id=tokenizer.eos_token_id,\n",
    "        )\n",
    "\n",
    "        # Decode output\n",
    "        generated_text = tokenizer.decode(outputs[0], skip_special_tokens=True)\n",
    "\n",
    "        # Since the model may include the prompt in its output, we extract the generated response\n",
    "        response = generated_text[len(prompt):]\n",
    "\n",
    "        # Prepare the JSON object\n",
    "        json_obj = {\n",
    "            \"prompt\": prompt,\n",
    "            \"response\": response\n",
    "        }\n",
    "        print(json_obj)\n",
    "        # Write the JSON object to file\n",
    "        f_out.write(json.dumps(json_obj) + '\\n')"
   ]
  }
 ],
 "metadata": {
  "kernelspec": {
   "display_name": "Python 3",
   "language": "python",
   "name": "python3"
  },
  "language_info": {
   "codemirror_mode": {
    "name": "ipython",
    "version": 3
   },
   "file_extension": ".py",
   "mimetype": "text/x-python",
   "name": "python",
   "nbconvert_exporter": "python",
   "pygments_lexer": "ipython3",
   "version": "3.10.8"
  }
 },
 "nbformat": 4,
 "nbformat_minor": 2
}
