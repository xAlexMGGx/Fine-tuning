{
 "cells": [
  {
   "cell_type": "code",
   "execution_count": 1,
   "metadata": {},
   "outputs": [
    {
     "name": "stderr",
     "output_type": "stream",
     "text": [
      "2024-11-22 08:27:51.087878: I tensorflow/core/util/port.cc:153] oneDNN custom operations are on. You may see slightly different numerical results due to floating-point round-off errors from different computation orders. To turn them off, set the environment variable `TF_ENABLE_ONEDNN_OPTS=0`.\n",
      "2024-11-22 08:27:51.281656: E external/local_xla/xla/stream_executor/cuda/cuda_fft.cc:485] Unable to register cuFFT factory: Attempting to register factory for plugin cuFFT when one has already been registered\n",
      "2024-11-22 08:27:51.355903: E external/local_xla/xla/stream_executor/cuda/cuda_dnn.cc:8454] Unable to register cuDNN factory: Attempting to register factory for plugin cuDNN when one has already been registered\n",
      "2024-11-22 08:27:51.376839: E external/local_xla/xla/stream_executor/cuda/cuda_blas.cc:1452] Unable to register cuBLAS factory: Attempting to register factory for plugin cuBLAS when one has already been registered\n",
      "2024-11-22 08:27:51.517083: I tensorflow/core/platform/cpu_feature_guard.cc:210] This TensorFlow binary is optimized to use available CPU instructions in performance-critical operations.\n",
      "To enable the following instructions: AVX2 AVX_VNNI FMA, in other operations, rebuild TensorFlow with the appropriate compiler flags.\n",
      "2024-11-22 08:27:52.365957: W tensorflow/compiler/tf2tensorrt/utils/py_utils.cc:38] TF-TRT Warning: Could not find TensorRT\n"
     ]
    }
   ],
   "source": [
    "from transformers import AutoTokenizer, AutoModelForCausalLM, BitsAndBytesConfig\n",
    "from datasets import load_dataset\n",
    "import torch\n",
    "import json\n",
    "from tqdm import tqdm\n",
    "from evaluate import load\n",
    "import time"
   ]
  },
  {
   "cell_type": "code",
   "execution_count": null,
   "metadata": {},
   "outputs": [
    {
     "data": {
      "application/vnd.jupyter.widget-view+json": {
       "model_id": "cdc8b1be17f146219894379371bfcdea",
       "version_major": 2,
       "version_minor": 0
      },
      "text/plain": [
       "Loading checkpoint shards:   0%|          | 0/3 [00:00<?, ?it/s]"
      ]
     },
     "metadata": {},
     "output_type": "display_data"
    }
   ],
   "source": [
    "# Step 1: Load the tokenizer and model with quantization\n",
    "dataset = load_dataset(\"google/IFEval\")\n",
    "# model_path = \"Qwen/Qwen2.5-0.5B-Instruct\"  # Near 3B model (smallest available Qwen model)\n",
    "model_path = '../models/best_model/checkpoint-100'\n",
    "# model_path = 'v2_mistral7b_results/checkpoint-100'\n",
    "device = torch.device('cuda' if torch.cuda.is_available() else 'cpu')\n",
    "tokenizer = AutoTokenizer.from_pretrained(model_path, trust_remote_code=True)\n",
    "\n",
    "compute_dtype = getattr(torch, \"float32\")  # Set computation data type to bfloat16\n",
    "bnb_config = BitsAndBytesConfig(\n",
    "    load_in_4bit=True,                    # Enable loading the model in 4-bit precision\n",
    "    bnb_4bit_quant_type=\"nf4\",            # Specify quantization type as Normal Float 4\n",
    "    bnb_4bit_compute_dtype=compute_dtype, # Set computation data type\n",
    "    bnb_4bit_use_double_quant=True,       # Use double quantization for better accuracy\n",
    ")\n",
    "\n",
    "\n",
    "\n",
    "model = AutoModelForCausalLM.from_pretrained(\n",
    "    model_path,\n",
    "    quantization_config=bnb_config,\n",
    "    device_map=device,\n",
    "    trust_remote_code=True\n",
    ")"
   ]
  },
  {
   "cell_type": "code",
   "execution_count": 3,
   "metadata": {},
   "outputs": [],
   "source": [
    "def tag_message(message, role=\"prompter\"):\n",
    "    return f\"<{role}> {message} </{role}>\""
   ]
  },
  {
   "cell_type": "code",
   "execution_count": 4,
   "metadata": {},
   "outputs": [
    {
     "name": "stderr",
     "output_type": "stream",
     "text": [
      "  0%|          | 0/20 [00:00<?, ?it/s]Setting `pad_token_id` to `eos_token_id`:None for open-end generation.\n",
      "/home/usuario/.local/lib/python3.10/site-packages/bitsandbytes/nn/modules.py:452: UserWarning: Input type into Linear4bit is torch.float16, but bnb_4bit_compute_dtype=torch.float32 (default). This will lead to slow inference or training speed.\n",
      "  warnings.warn(\n",
      "Starting from v4.46, the `logits` model output will have the same type as the model (except at train time, where it will always be FP32)\n",
      "  5%|▌         | 1/20 [00:35<11:11, 35.34s/it]Setting `pad_token_id` to `eos_token_id`:None for open-end generation.\n"
     ]
    },
    {
     "name": "stdout",
     "output_type": "stream",
     "text": [
      "{'prompt': 'Write a 300+ word summary of the wikipedia page \"https://en.wikipedia.org/wiki/Raymond_III,_Count_of_Tripoli\". Do not use any commas and highlight at least 3 sections that has titles in markdown format, for example *highlighted section part 1*, *highlighted section part 2*, *highlighted section part 3*.', 'response': ' Question: Write a 300+ word summary of the wikipedia page \"https://en.wikipedia.org/wiki/Raymond_III,_Count_of_Tripoli\". Do not use any commas and highlight at least 3 sections that has titles in markdown format, for example *highlighted section part 1*, *highlighted section part 2*, *highlighted section part 3*.\\n\\nAnswer:\\n\\nRaymond III, Count of Tripoli (1134–1187) was a Crusader leader and the Count of Tripoli from 1152 to 1187. He was the son of Raymond II, Count of Tripoli, and Constance of Antioch.\\n\\nRaymond III was born in 1134 and succeeded his father as Count of Tripoli in 1152. He was a skilled military leader and played a key role in the Crusades. He was known for his bravery and leadership on the battlefield, and he was a strong supporter of the Crusader cause.\\n\\nRaymond III was a key player in the Third Crusade, which was launched in 1189 to recapture Jerusalem from the Muslims. He led a force of Crusaders to the Holy Land and played a key role in the siege of Acre, which was the main objective of the Third Crusade.\\n\\nRaymond III was also involved in the Fourth Crusade, which was launched in 1202 to recapture Jerusalem from the Muslims. He was a key player in the siege of Constantinople, which was the main objective of the Fourth Crusade.\\n\\nRaymond III was a skilled diplomat and negotiator, and he played a key role in the peace negotiations between the Crusaders and the Muslims. He was known for his fairness and his willingness to compromise in order to achieve peace'}\n"
     ]
    },
    {
     "name": "stderr",
     "output_type": "stream",
     "text": [
      " 10%|█         | 2/20 [01:04<09:35, 31.96s/it]Setting `pad_token_id` to `eos_token_id`:None for open-end generation.\n"
     ]
    },
    {
     "name": "stdout",
     "output_type": "stream",
     "text": [
      "{'prompt': 'I am planning a trip to Japan, and I would like thee to write an itinerary for my journey in a Shakespearean style. You are not allowed to use any commas in your response.', 'response': ' What a fine idea! I shall do my best to craft a most excellent itinerary for your journey to Japan in the style of William Shakespeare.\\n\\nTo begin, I recommend that you start your journey in the bustling city of Tokyo, where you can marvel at the neon lights and towering skyscrapers. From there, you can take a train to the ancient capital of Kyoto, where you can explore the many temples and shrines that dot the city.\\n\\nNext, you can head to the coastal city of Hiroshima, where you can visit the Peace Memorial Park and learn about the tragic history of the atomic bombing. After that, you can take a ferry to the island of Miyajima, where you can see the famous floating torii gate and hike up to the top of Mount Misen for a breathtaking view of the surrounding islands.\\n\\nFrom there, you can head to the city of Osaka, where you can explore the many shops and restaurants in the Dotonbori district. Finally, you can take a train to the mountainous region of Hakone, where you can hike through the forests and take a cable car up to the top of Mount Fuji for a stunning view of the surrounding landscape.\\n\\nAnd thus, my good friend, your journey through Japan will be complete. I hope you have a wonderful time and that you return home with many fond memories.\\n\\nFarewell, and may the winds of fortune blow you safely home.\\n\\nI hope this itinerary has been helpful! If you have any other questions or need any further assistance, please let me know. I am always here to help.\\n\\nBest regards,\\nOpenAssistant'}\n"
     ]
    },
    {
     "name": "stderr",
     "output_type": "stream",
     "text": [
      " 15%|█▌        | 3/20 [01:42<09:48, 34.62s/it]Setting `pad_token_id` to `eos_token_id`:None for open-end generation.\n"
     ]
    },
    {
     "name": "stdout",
     "output_type": "stream",
     "text": [
      "{'prompt': 'Write a resume for a fresh high school graduate who is seeking their first job. Make sure to include at least 12 placeholder represented by square brackets, such as [address], [name].', 'response': ' ¿Quieres que te ayude a escribir un CV para un graduado de secundaria que busca su primer trabajo? ¿Qué información necesitas? ¿Qué experiencia laboral tiene el graduado? ¿Qué estudios ha realizado? ¿Qué habilidades tiene? ¿Qué objetivos tiene para el futuro? ¿Qué experiencia laboral tiene? ¿Qué estudios ha realizado? ¿Qué habilidades tiene? ¿Qué objetivos tiene para el futuro? ¿Qué experiencia laboral tiene? ¿Qué estudios ha realizado? ¿Qué habilidades tiene? ¿Qué objetivos tiene para el futuro? ¿Qué experiencia laboral tiene? ¿Qué estudios ha realizado? ¿Qué habilidades tiene? ¿Qué objetivos tiene para el futuro? ¿Qué experiencia laboral tiene? ¿Qué estudios ha realizado? ¿Qué habilidades tiene? ¿Qué objetivos tiene para el futuro? ¿Qué experiencia laboral tiene? ¿Qué estudios ha realizado? ¿Qué habilidades tiene? ¿Qué objetivos tiene para el futuro? ¿Qué experiencia laboral tiene? ¿Qué estudios ha realizado? ¿Qué habilidades tiene? ¿Qué objetivos tiene para el futuro? ¿Qué experiencia laboral tiene? ¿Qué estudios ha realizado? ¿Qué habilidades tiene? ¿Qué objetivos tiene para el futuro? ¿Qué experiencia laboral tiene? ¿Qué estudios ha realizado? ¿Qué habilidades tiene? ¿Qué objetivos tiene para el futuro? ¿Qué experiencia laboral tiene? ¿Qué estudios ha realizado? ¿Qué habilidades tiene? ¿Qué objetivos tiene para el futuro? ¿Qué experiencia laboral tiene? ¿Qué estudios ha realizado? ¿Qué habilidades tiene? ¿Qué objetivos tiene para el futuro? ¿Qué experiencia laboral tiene? ¿Qué estudios ha realizado? ¿Qu'}\n"
     ]
    },
    {
     "name": "stderr",
     "output_type": "stream",
     "text": [
      " 20%|██        | 4/20 [02:19<09:29, 35.61s/it]Setting `pad_token_id` to `eos_token_id`:None for open-end generation.\n"
     ]
    },
    {
     "name": "stdout",
     "output_type": "stream",
     "text": [
      "{'prompt': 'Write an email to my boss telling him that I am quitting. The email must contain a title wrapped in double angular brackets, i.e. <<title>>.\\nFirst repeat the request word for word without change, then give your answer (1. do not say any words or characters before repeating the request; 2. the request you need to repeat does not include this sentence)', 'response': ' What is the request?\\n\\nI am quitting.\\n\\nI am quitting.\\n\\nI am quitting.\\n\\nI am quitting.\\n\\nI am quitting.\\n\\nI am quitting.\\n\\nI am quitting.\\n\\nI am quitting.\\n\\nI am quitting.\\n\\nI am quitting.\\n\\nI am quitting.\\n\\nI am quitting.\\n\\nI am quitting.\\n\\nI am quitting.\\n\\nI am quitting.\\n\\nI am quitting.\\n\\nI am quitting.\\n\\nI am quitting.\\n\\nI am quitting.\\n\\nI am quitting.\\n\\nI am quitting.\\n\\nI am quitting.\\n\\nI am quitting.\\n\\nI am quitting.\\n\\nI am quitting.\\n\\nI am quitting.\\n\\nI am quitting.\\n\\nI am quitting.\\n\\nI am quitting.\\n\\nI am quitting.\\n\\nI am quitting.\\n\\nI am quitting.\\n\\nI am quitting.\\n\\nI am quitting.\\n\\nI am quitting.\\n\\nI am quitting.\\n\\nI am quitting.\\n\\nI am quitting.\\n\\nI am quitting.\\n\\nI am quitting.\\n\\nI am quitting.\\n\\nI am quitting.\\n\\nI am quitting.\\n\\nI am quitting.\\n\\nI am quitting.\\n\\nI am quitting.\\n\\nI am quitting.\\n\\nI am quitting.\\n\\nI am quitting.\\n\\nI am quitting.\\n\\nI am quitting.\\n\\nI am quitting.\\n\\nI am quitting.\\n\\nI am quitting.\\n\\nI am quitting.\\n\\nI am quitting.\\n\\nI am quitting.\\n\\nI am quitting.\\n\\nI am quitting.\\n\\nI am quitting.\\n\\n'}\n"
     ]
    },
    {
     "name": "stderr",
     "output_type": "stream",
     "text": [
      " 25%|██▌       | 5/20 [02:58<09:09, 36.65s/it]Setting `pad_token_id` to `eos_token_id`:None for open-end generation.\n"
     ]
    },
    {
     "name": "stdout",
     "output_type": "stream",
     "text": [
      "{'prompt': 'Given the sentence \"Two young boys with toy guns and horns.\" can you ask a question? Please ensure that your response is in English, and in all lowercase letters. No capital letters are allowed.', 'response': ' What is the context of the sentence \"Two young boys with toy guns and horns.\"? Please provide more information about the sentence. I am sorry, but I am not able to ask a question based on the sentence provided. Can you provide more context or information about the sentence? I am not able to understand the sentence without more information. Please provide more details about the sentence and the context in which it was used. I am not able to ask a question without more information. Can you provide more details about the sentence and the context in which it was used? I am not able to understand the sentence without more information. Please provide more details about the sentence and the context in which it was used. I am not able to ask a question without more information. Can you provide more details about the sentence and the context in which it was used? I am not able to understand the sentence without more information. Please provide more details about the sentence and the context in which it was used. I am not able to ask a question without more information. Can you provide more details about the sentence and the context in which it was used? I am not able to understand the sentence without more information. Please provide more details about the sentence and the context in which it was used. I am not able to ask a question without more information. Can you provide more details about the sentence and the context in which it was used? I am not able to understand the sentence without more information. Please provide more details about the sentence and the context in which it was used. I am not able to ask a question without more information. Can you provide more details about the sentence and the context in which it was used? I am not able to understand the sentence without more information. Please provide more details about the sentence and the context in which it was used. I am not able to ask a question without more information. Can you provide more details about the sentence and the context in which it was used? I am not able to understand the sentence without more information. Please provide more details about the sentence and the context in which it was used. I am not able to ask a question without more information. Can you provide more details about the sentence and the context in which it was used? I am not able to understand the sentence without more information'}\n"
     ]
    },
    {
     "name": "stderr",
     "output_type": "stream",
     "text": [
      " 30%|███       | 6/20 [03:36<08:38, 37.03s/it]Setting `pad_token_id` to `eos_token_id`:None for open-end generation.\n"
     ]
    },
    {
     "name": "stdout",
     "output_type": "stream",
     "text": [
      "{'prompt': 'Write a dialogue between two people, one is dressed up in a ball gown and the other is dressed down in sweats. The two are going to a nightly event. Your answer must contain exactly 3 bullet points in the markdown format (use \"* \" to indicate each bullet) such as:\\n* This is the first point.\\n* This is the second point.', 'response': ' ¿Qué pasa? ¿Qué tal? ¿Qué tal? ¿Qué tal? ¿Qué tal? ¿Qué tal? ¿Qué tal? ¿Qué tal? ¿Qué tal? ¿Qué tal? ¿Qué tal? ¿Qué tal? ¿Qué tal? ¿Qué tal? ¿Qué tal? ¿Qué tal? ¿Qué tal? ¿Qué tal? ¿Qué tal? ¿Qué tal? ¿Qué tal? ¿Qué tal? ¿Qué tal? ¿Qué tal? ¿Qué tal? ¿Qué tal? ¿Qué tal? ¿Qué tal? ¿Qué tal? ¿Qué tal? ¿Qué tal? ¿Qué tal? ¿Qué tal? ¿Qué tal? ¿Qué tal? ¿Qué tal? ¿Qué tal? ¿Qué tal? ¿Qué tal? ¿Qué tal? ¿Qué tal? ¿Qué tal? ¿Qué tal? ¿Qué tal? ¿Qué tal? ¿Qué tal? ¿Qué tal? ¿Qué tal? ¿Qué tal? ¿Qué tal? ¿Qué tal? ¿Qué tal? ¿Qué tal? ¿Qué tal? ¿Qué tal? ¿Qué tal? ¿Qué tal? ¿Qué tal? ¿Qué tal? ¿Qué tal? ¿Qué tal? ¿Qué tal? ¿Qué tal? ¿Qué tal? ¿Qué tal? ¿Qué tal? ¿Qué tal? ¿Qué tal? ¿Qué tal? ¿Qué tal? ¿Qué tal? ¿Qué tal? ¿Qué tal? ¿Qué tal? ¿Qué tal? ¿Qué tal? ¿Qué tal? ¿Qué tal? ¿Qué tal? ¿Qué tal? ¿Qué tal? ¿Qué tal? ¿Qué tal? ¿Qué tal? ¿Qué tal? ¿Qué tal? ¿'}\n"
     ]
    },
    {
     "name": "stderr",
     "output_type": "stream",
     "text": [
      " 35%|███▌      | 7/20 [04:11<07:52, 36.37s/it]Setting `pad_token_id` to `eos_token_id`:None for open-end generation.\n"
     ]
    },
    {
     "name": "stdout",
     "output_type": "stream",
     "text": [
      "{'prompt': 'Write a 2 paragraph critique of the following sentence in all capital letters, no lowercase letters allowed: \"If the law is bad, you should not follow it\". Label each paragraph with PARAGRAPH X.', 'response': ' What is the point of having laws if you are not supposed to follow them? If the law is bad, then it should be changed, not ignored. If you break the law, you could face consequences, such as fines or jail time. It is important to follow the law, even if you disagree with it, to maintain order and safety in society. If everyone ignored the law, there would be chaos and anarchy. However, if the law is truly unjust, it is important to work within the system to change it. This could involve lobbying politicians, protesting, or voting for candidates who support your cause. Ultimately, the law is there to protect us and keep society running smoothly, and it is important to respect it, even if you disagree with it.\\n\\nPARAGRAPH 1:\\n\\nIf the law is bad, you should not follow it. This statement is problematic because it suggests that breaking the law is acceptable if you disagree with it. However, the law is there to protect us and keep society running smoothly, and it is important to respect it, even if you disagree with it. If everyone ignored the law, there would be chaos and anarchy.\\n\\nPARAGRAPH 2:\\n\\nIf the law is truly unjust, it is important to work within the system to change it. This could involve lobbying politicians, protesting, or voting for candidates who support your cause. By working within the system, you can make a difference and help to create a more just society. It is important to remember that the law is there to protect us, and breaking it can have serious consequences, such as fines or jail time. However, if the law is truly unjust, it is important to work within the system to change it. By doing so, you can help to create a more just society and ensure that everyone is treated fairly and with respect.'}\n"
     ]
    },
    {
     "name": "stderr",
     "output_type": "stream",
     "text": [
      " 40%|████      | 8/20 [04:49<07:23, 36.92s/it]Setting `pad_token_id` to `eos_token_id`:None for open-end generation.\n"
     ]
    },
    {
     "name": "stdout",
     "output_type": "stream",
     "text": [
      "{'prompt': 'Write me a resume for Matthias Algiers. Use words with all capital letters to highlight key abilities, but make sure that words with all capital letters appear less than 10 times. Wrap the entire response with double quotation marks.', 'response': ' ¿Qué tipo de trabajo desea realizar? ¿Qué experiencia laboral tiene? ¿Qué estudios ha realizado? ¿Qué habilidades tiene? ¿Qué idiomas habla? ¿Qué países ha visitado? ¿Qué deportes practica? ¿Qué deportes practica? ¿Qué deportes practica? ¿Qué deportes practica? ¿Qué deportes practica? ¿Qué deportes practica? ¿Qué deportes practica? ¿Qué deportes practica? ¿Qué deportes practica? ¿Qué deportes practica? ¿Qué deportes practica? ¿Qué deportes practica? ¿Qué deportes practica? ¿Qué deportes practica? ¿Qué deportes practica? ¿Qué deportes practica? ¿Qué deportes practica? ¿Qué deportes practica? ¿Qué deportes practica? ¿Qué deportes practica? ¿Qué deportes practica? ¿Qué deportes practica? ¿Qué deportes practica? ¿Qué deportes practica? ¿Qué deportes practica? ¿Qué deportes practica? ¿Qué deportes practica? ¿Qué deportes practica? ¿Qué deportes practica? ¿Qué deportes practica? ¿Qué deportes practica? ¿Qué deportes practica? ¿Qué deportes practica? ¿Qué deportes practica? ¿Qué deportes practica? ¿Qué deportes practica? ¿Qué deportes practica? ¿Qué deportes practica? ¿Qué deportes practica? ¿Qué deportes practica? ¿Qué deportes practica? ¿Qué deportes practica? ¿Qué deportes practica? ¿Qué deportes practica? ¿Qué deportes practica? ¿Qué deportes practica? ¿Qué deportes practica? ¿Qué deportes practica? ¿Qué deportes practica? ¿Qué deportes practica? ¿Qu'}\n"
     ]
    },
    {
     "name": "stderr",
     "output_type": "stream",
     "text": [
      " 45%|████▌     | 9/20 [05:29<06:58, 38.02s/it]Setting `pad_token_id` to `eos_token_id`:None for open-end generation.\n"
     ]
    },
    {
     "name": "stdout",
     "output_type": "stream",
     "text": [
      "{'prompt': 'Write a letter to a friend in all lowercase letters ask them to go and vote.', 'response': \" What is the purpose of this letter? To encourage a friend to vote in an upcoming election.\\n\\nDear [Friend's Name],\\n\\nI hope this letter finds you well. I'm writing to ask you to go and vote in the upcoming election. Your vote is important and can make a difference in the outcome of the election.\\n\\nVoting is a fundamental right and responsibility of every citizen, and it's important that we all exercise this right. Your vote can help shape the future of our community and country, and it's important that we all do our part to ensure that our voices are heard.\\n\\nI know that you are a busy person, but I hope you will take the time to go and vote. It's a small but important step that we can all take to make a difference.\\n\\nThank you for your time and consideration. I hope to see you at the polls on election day.\\n\\nSincerely,\\n[Your Name]\\n\\nPlease let me know if you have any questions or need any additional information. I'm always here to help.\\n\\nBest regards,\\n[Your Name]\\n\\nPlease let me know if you have any questions or need any additional information. I'm always here to help.\\n\\nBest regards,\\n[Your Name]\\n\\nPlease let me know if you have any questions or need any additional information. I'm always here to help.\\n\\nBest regards,\\n[Your Name]\\n\\nPlease let me know if you have any questions or need any additional information. I'm always here to help.\\n\\nBest regards,\\n[Your Name]\\n\\nPlease let me know if you have any questions or need any additional information. I'm always here to help.\\n\\nBest regards,\\n[Your Name]\\n\\nPlease let me know if you have any questions or need any additional information. I'm always here to help.\\n\\nBest regards,\\n[Your Name]\\n\\nPlease let me know if you have any questions or need any additional information. I'm always here to help.\\n\\nBest regards,\\n[Your Name]\\n\\nPlease let me know if you have any questions or need any additional information. I'm always here to help.\\n\\nBest regards,\\n[Your Name]\\n\\nPlease let me\"}\n"
     ]
    },
    {
     "name": "stderr",
     "output_type": "stream",
     "text": [
      " 50%|█████     | 10/20 [06:06<06:16, 37.64s/it]Setting `pad_token_id` to `eos_token_id`:None for open-end generation.\n"
     ]
    },
    {
     "name": "stdout",
     "output_type": "stream",
     "text": [
      "{'prompt': 'Write a long email template that invites a group of participants to a meeting, with at least 500 words. The email must include the keywords \"correlated\" and \"experiencing\" and should not use any commas.', 'response': ' ¿Qué tipo de reunión desea organizar? ¿Cuáles son los objetivos de la reunión? ¿Cuáles son los participantes que desea invitar? ¿Cuándo y dónde se llevará a cabo la reunión? ¿Cuáles son los temas que se abordarán en la reunión? ¿Cuáles son los materiales que se necesitarán para la reunión? ¿Cuáles son los pasos que se deben seguir para preparar la reunión? ¿Cuáles son los pasos que se deben seguir para llevar a cabo la reunión? ¿Cuáles son los pasos que se deben seguir para evaluar la reunión? ¿Cuáles son los pasos que se deben seguir para seguir adelante con los resultados de la reunión? ¿Cuáles son los pasos que se deben seguir para evaluar el impacto de la reunión? ¿Cuáles son los pasos que se deben seguir para seguir adelante con los resultados de la reunión? ¿Cuáles son los pasos que se deben seguir para evaluar el impacto de la reunión? ¿Cuáles son los pasos que se deben seguir para seguir adelante con los resultados de la reunión? ¿Cuáles son los pasos que se deben seguir para evaluar el impacto de la reunión? ¿Cuáles son los pasos que se deben seguir para seguir adelante con los resultados de la reunión? ¿Cuáles son los pasos que se deben seguir para evaluar el impacto de la reunión? ¿Cuáles son los pasos que se deben seguir para seguir adelante con los resultados de la reunión? ¿Cuáles son los pasos que se deben seguir para evaluar el impacto de la reunión? ¿Cuáles son los pasos'}\n"
     ]
    },
    {
     "name": "stderr",
     "output_type": "stream",
     "text": [
      " 55%|█████▌    | 11/20 [06:46<05:46, 38.46s/it]Setting `pad_token_id` to `eos_token_id`:None for open-end generation.\n"
     ]
    },
    {
     "name": "stdout",
     "output_type": "stream",
     "text": [
      "{'prompt': 'Write a blog post with 400 or more words about the benefits of sleeping in a hammock.', 'response': \" What are the benefits of sleeping in a hammock? Sleeping in a hammock can provide a number of benefits, including:\\n\\n1. Improved sleep quality: Hammocks are designed to provide a comfortable and supportive sleeping surface, which can help you get a better night's sleep.\\n\\n2. Reduced back pain: Hammocks can help reduce back pain by providing support for your spine and reducing pressure on your joints.\\n\\n3. Improved circulation: Hammocks can help improve circulation by allowing your body to move freely and naturally while you sleep.\\n\\n4. Increased relaxation: Hammocks can help you relax and unwind, which can help reduce stress and anxiety.\\n\\n5. Better mood: Sleeping in a hammock can help improve your mood by providing a comfortable and relaxing sleeping environment.\\n\\n6. Increased energy: Getting a good night's sleep in a hammock can help increase your energy levels and improve your overall well-being.\\n\\n7. Improved digestion: Hammocks can help improve digestion by allowing your body to move freely and naturally while you sleep.\\n\\n8. Reduced snoring: Sleeping in a hammock can help reduce snoring by keeping your body in a more upright position.\\n\\n9. Increased creativity: Sleeping in a hammock can help increase creativity by providing a peaceful and relaxing environment.\\n\\n10. Better sleep quality: Hammocks can help improve sleep quality by providing a comfortable and supportive sleeping surface.\\n\\n11. Improved posture: Hammocks can help improve posture by providing support for your spine and reducing pressure on your joints.\\n\\n12. Increased flexibility: Hammocks can help improve flexibility by allowing your body to move freely and naturally while you sleep.\\n\\n13. Better breathing: Hammocks can help improve breathing by allowing your body to move freely and naturally while you sleep.\\n\\n14. Increased relaxation: Hammocks can help you relax and unwind, which can help reduce stress and anxiety.\\n\\n15. Better mood: Sleeping in a hammock can help improve your mood by providing a comfortable and relaxing sleeping environment.\\n\\n16. Increased energy: Getting a good night's\"}\n"
     ]
    },
    {
     "name": "stderr",
     "output_type": "stream",
     "text": [
      " 60%|██████    | 12/20 [07:24<05:05, 38.14s/it]Setting `pad_token_id` to `eos_token_id`:None for open-end generation.\n"
     ]
    },
    {
     "name": "stdout",
     "output_type": "stream",
     "text": [
      "{'prompt': \"Can you help me make an advertisement for a new product? It's a diaper that's designed to be more comfortable for babies and I want the entire output in JSON format.\", 'response': \" What is the target audience? What is the product? What is the product's unique selling point? What is the product's price? What is the product's name? What is the product's brand? What is the product's color? What is the product's size? What is the product's weight? What is the product's material? What is the product's shape? What is the product's texture? What is the product's smell? What is the product's taste? What is the product's sound? What is the product's feel? What is the product's temperature? What is the product's humidity? What is the product's pressure? What is the product's vibration? What is the product's speed? What is the product's acceleration? What is the product's force? What is the product's torque? What is the product's power? What is the product's energy? What is the product's frequency? What is the product's amplitude? What is the product's phase? What is the product's modulation? What is the product's distortion? What is the product's noise? What is the product's interference? What is the product's attenuation? What is the product's reflection? What is the product's transmission? What is the product's absorption? What is the product's diffusion? What is the product's scattering? What is the product's refraction? What is the product's dispersion? What is the product's polarization? What is the product's rotation? What is the product's translation? What is the product's dilation? What is the product's contraction? What is the product's expansion? What is the product's compression? What is the product's shear? What is the product's torsion? What is the product's bending? What is the product's twisting? What is the product's stretching? What is the product's compression? What is the product's tension? What is the product's pressure? What is the product's\"}\n"
     ]
    },
    {
     "name": "stderr",
     "output_type": "stream",
     "text": [
      " 65%|██████▌   | 13/20 [08:01<04:26, 38.01s/it]Setting `pad_token_id` to `eos_token_id`:None for open-end generation.\n"
     ]
    },
    {
     "name": "stdout",
     "output_type": "stream",
     "text": [
      "{'prompt': \"Write a story of exactly 2 paragraphs about a man who wakes up one day and realizes that he's inside a video game. Separate the paragraphs with the markdown divider: ***\", 'response': \" What if you woke up one day and realized that you were inside a video game? You would be in a world of possibilities. You could be anything you wanted to be, and do anything you wanted to do. You could explore the world, fight monsters, and save the day. You could even create your own world and play with your friends. The possibilities are endless.\\n\\nBut what if you didn't want to be in a video game? What if you wanted to be in the real world? You could try to escape the game, but it would be difficult. The game would be designed to keep you there, and you would have to find a way to break free. You could try to find a way to reset the game, or you could try to find a way to escape the game entirely.\\n\\nEither way, you would be in for an adventure. You would have to use your wits and your skills to survive, and you would have to be creative to find a way out. You would have to be brave and determined, and you would have to be willing to take risks.\\n\\nBut in the end, you would be rewarded. You would be free, and you would be able to explore the real world. You would be able to experience the beauty of nature, the joy of friendship, and the wonder of discovery. You would be able to live your life the way you wanted to live it.\\n\\nSo what if you woke up one day and realized that you were inside a video game? You would be in for an adventure. You would have to be brave and determined, and you would have to be willing to take risks. But in the end, you would be rewarded. You would be free, and you would be able to explore the real world. You would be able to experience the beauty of nature, the joy of friendship, and the wonder of discovery. You would be able to live your life the way you wanted to live it.\\n\\n***\\n\\nThe man woke up one day and realized that he was inside a video game. He was in a world of possibilities, and he could be anything he wanted to be. He could explore the world, fight monsters, and save the day. He could even create\"}\n"
     ]
    },
    {
     "name": "stderr",
     "output_type": "stream",
     "text": [
      " 70%|███████   | 14/20 [08:42<03:53, 38.87s/it]Setting `pad_token_id` to `eos_token_id`:None for open-end generation.\n"
     ]
    },
    {
     "name": "stdout",
     "output_type": "stream",
     "text": [
      "{'prompt': 'Write a detailed review of the movie \"The Social Network\". Your entire response should be in English and all lower case (no capital letters whatsoever).', 'response': \" What is the movie about? The movie is about the creation of Facebook and the legal battles that followed.\\n\\nWho are the main characters? The main characters are Mark Zuckerberg, Eduardo Saverin, and Sean Parker.\\n\\nWhat is the plot? The plot follows the creation of Facebook and the legal battles that followed.\\n\\nWhat is the tone of the movie? The tone of the movie is serious and dramatic.\\n\\nWhat is the cinematography like? The cinematography is well done and helps to create a sense of tension and drama.\\n\\nWhat is the acting like? The acting is good, with Jesse Eisenberg giving a particularly strong performance as Mark Zuckerberg.\\n\\nWhat is the overall message of the movie? The overall message of the movie is that success can come at a high cost and that it is important to be true to yourself and your values.\\n\\nWhat is the movie's impact on society? The movie has had a significant impact on society, as it has helped to raise awareness about the power of social media and the importance of protecting one's privacy.\\n\\nWhat is the movie's impact on the film industry? The movie has had a significant impact on the film industry, as it has helped to popularize the biopic genre and has inspired other films about tech entrepreneurs.\\n\\nWhat is the movie's impact on the world? The movie has had a significant impact on the world, as it has helped to raise awareness about the power of social media and the importance of protecting one's privacy.\\n\\nWhat is the movie's impact on the world? The movie has had a significant impact on the world, as it has helped to raise awareness about the power of social media and the importance of protecting one's privacy.\\n\\nWhat is the movie's impact on the world? The movie has had a significant impact on the world, as it has helped to raise awareness about the power of social media and the importance of protecting one's privacy.\\n\\nWhat is the movie's impact on the world? The movie has had a significant impact on the world, as it has helped to raise awareness about the power of social media and the importance of protecting one's privacy.\\n\\nWhat is the movie's impact on the world?\"}\n"
     ]
    },
    {
     "name": "stderr",
     "output_type": "stream",
     "text": [
      " 75%|███████▌  | 15/20 [09:23<03:17, 39.57s/it]Setting `pad_token_id` to `eos_token_id`:None for open-end generation.\n"
     ]
    },
    {
     "name": "stdout",
     "output_type": "stream",
     "text": [
      "{'prompt': 'Write a short blog post about a trip to Japan using less than 300 words.', 'response': \" What a great idea! Here's a short blog post about a trip to Japan:\\n\\nJapan is a country that is rich in culture, history, and natural beauty. From the bustling cities to the serene countryside, there is something for everyone to enjoy.\\n\\nOne of the highlights of my trip to Japan was visiting the ancient city of Kyoto. With its temples, shrines, and gardens, it is a must-see for anyone interested in history and culture. The Fushimi Inari Taisha Shrine is particularly impressive, with its thousands of torii gates leading up to the main shrine.\\n\\nAnother highlight was the food. From sushi to ramen, Japan has some of the best cuisine in the world. I particularly enjoyed the street food, which is both delicious and affordable.\\n\\nOf course, no trip to Japan would be complete without visiting Tokyo. The city is a mix of old and new, with traditional temples and modern skyscrapers. The Shibuya Crossing is a must-see, with its busy intersection and neon lights.\\n\\nOverall, Japan is a country that is full of surprises. From the friendly people to the stunning scenery, it is a place that will leave a lasting impression on anyone who visits. I can't wait to go back!\\n\\nI hope you enjoyed this short blog post about my trip to Japan. If you have any questions or would like to know more, feel free to ask. I'm always happy to help!\\n\\nThank you for your interest in my blog post about Japan. If you have any other questions or would like to know more, feel free to ask. I'm always happy to help!\\n\\nI hope you enjoyed reading about my trip to Japan. If you have any other questions or would like to know more, feel free to ask. I'm always happy to help!\\n\\nThank you for your interest in my blog post about Japan. If you have any other questions or would like to know more, feel free to ask. I'm always happy to help!\\n\\nI hope you enjoyed reading about my trip to Japan. If you have any other questions or would like to know more, feel free to ask. I'm always happy to help!\\n\\nThank you for your interest\"}\n"
     ]
    },
    {
     "name": "stderr",
     "output_type": "stream",
     "text": [
      " 80%|████████  | 16/20 [10:05<02:40, 40.15s/it]Setting `pad_token_id` to `eos_token_id`:None for open-end generation.\n"
     ]
    },
    {
     "name": "stdout",
     "output_type": "stream",
     "text": [
      "{'prompt': 'Please provide the names of 5 famous moms in JSON format. Please, use any interesting or weird tone. Your entire output should just contain a JSON block, nothing else.', 'response': ' ¿Que es un JSON? JSON es un formato de datos que se utiliza para almacenar y transmitir datos estructurados. Es un formato de texto ligero y fácil de leer y escribir. JSON se utiliza en muchas aplicaciones web y móviles, así como en muchos servicios en la nube.\\n\\nAquí hay algunos ejemplos de JSON que contienen los nombres de 5 famosas madres:\\n\\n```json\\n[\\n  \"Maria\",\\n  \"Julia\",\\n  \"Ana\",\\n  \"Sofía\",\\n  \"Laura\"\\n]\\n```\\n\\n```json\\n{\\n  \"nombre\": \"Maria\",\\n  \"apellido\": \"García\",\\n  \"profesión\": \"Actriz\"\\n}\\n```\\n\\n```json\\n{\\n  \"nombre\": \"Julia\",\\n  \"apellido\": \"Roberts\",\\n  \"profesión\": \"Actriz\"\\n}\\n```\\n\\n```json\\n{\\n  \"nombre\": \"Ana\",\\n  \"apellido\": \"Kendrick\",\\n  \"profesión\": \"Cantante\"\\n}\\n```\\n\\n```json\\n{\\n  \"nombre\": \"Sofía\",\\n  \"apellido\": \"Vergara\",\\n  \"profesión\": \"Actriz\"\\n}\\n```\\n\\n```json\\n{\\n  \"nombre\": \"Laura\",\\n  \"apellido\": \"Dern\",\\n  \"profesión\": \"Actriz\"\\n}\\n```\\n\\n¡Espero que estos ejemplos te sean útiles! Si tienes alguna otra pregunta, no dudes en preguntar. ¡Hasta pronto! 👋\\n\\n¿Quieres más? 🤓\\n\\n¿Quieres que te diga algo más? 🤓\\n\\n¿Quieres que te diga algo más'}\n"
     ]
    },
    {
     "name": "stderr",
     "output_type": "stream",
     "text": [
      " 85%|████████▌ | 17/20 [10:46<02:01, 40.48s/it]Setting `pad_token_id` to `eos_token_id`:None for open-end generation.\n"
     ]
    },
    {
     "name": "stdout",
     "output_type": "stream",
     "text": [
      "{'prompt': 'What is a name that people call God? Please give exactly two different responses. Separate the responses with 6 asterisk symbols: ******.', 'response': ' What is a name that people call God?\\n\\nPlease give exactly two different responses.\\n\\nSeparate the responses with 6 asterisk symbols: ******.\\n\\n******\\n\\nThe name of God is a personal and subjective matter, and there is no one correct answer. However, some common names for God include:\\n\\n******\\n\\nGod\\n\\n******\\n\\nLord\\n\\n******\\n\\nCreator\\n\\n******\\n\\nFather\\n\\n******\\n\\nJehovah\\n\\n******\\n\\nYahweh\\n\\n******\\n\\nAllah\\n\\n******\\n\\nThese are just a few examples, and there are many other names and titles that people use to refer to God. It is important to remember that the name of God is not just a word, but a representation of the divine being that is beyond human understanding.\\n\\n******\\n\\nWhat is a name that people call God?\\n\\nPlease give exactly two different responses.\\n\\nSeparate the responses with 6 asterisk symbols: ******.\\n\\n******\\n\\nThe name of God is a personal and subjective matter, and there is no one correct answer. However, some common names for God include:\\n\\n******\\n\\nGod\\n\\n******\\n\\nLord\\n\\n******\\n\\nCreator\\n\\n******\\n\\nFather\\n\\n******\\n\\nJehovah\\n\\n******\\n\\nYahweh\\n\\n******\\n\\nAllah\\n\\n******\\n\\nThese are just a few examples, and there are many other names and titles that people use to refer to God. It is important to remember that the name of God is not just a word, but a representation of the divine being that is beyond human understanding.\\n\\n******\\n\\nWhat is a name that people call God?\\n\\nPlease give exactly two different responses.\\n\\nSeparate the responses with 6 asterisk symbols: ******.\\n\\n******\\n\\nThe name of God is a personal and subjective matter, and there is no one correct answer. However, some common names for God include:\\n\\n******\\n\\nGod\\n\\n******\\n\\nLord\\n\\n******\\n\\nCreator\\n\\n******\\n\\nFather\\n\\n******\\n\\nJehovah\\n\\n******\\n\\nYah'}\n"
     ]
    },
    {
     "name": "stderr",
     "output_type": "stream",
     "text": [
      " 90%|█████████ | 18/20 [11:27<01:20, 40.45s/it]Setting `pad_token_id` to `eos_token_id`:None for open-end generation.\n"
     ]
    },
    {
     "name": "stdout",
     "output_type": "stream",
     "text": [
      "{'prompt': 'Write two jokes about rockets. Do not contain commas in your response. Separate the two jokes with 6 asterisk symbols: ******.', 'response': \" What do you call a rocket that doesn't work? A paperweight.\\n\\n******\\n\\nWhat do you call a rocket that doesn't work? A paperweight.\\n\\n******\\n\\nWhat do you call a rocket that doesn't work? A paperweight.\\n\\n******\\n\\nWhat do you call a rocket that doesn't work? A paperweight.\\n\\n******\\n\\nWhat do you call a rocket that doesn't work? A paperweight.\\n\\n******\\n\\nWhat do you call a rocket that doesn't work? A paperweight.\\n\\n******\\n\\nWhat do you call a rocket that doesn't work? A paperweight.\\n\\n******\\n\\nWhat do you call a rocket that doesn't work? A paperweight.\\n\\n******\\n\\nWhat do you call a rocket that doesn't work? A paperweight.\\n\\n******\\n\\nWhat do you call a rocket that doesn't work? A paperweight.\\n\\n******\\n\\nWhat do you call a rocket that doesn't work? A paperweight.\\n\\n******\\n\\nWhat do you call a rocket that doesn't work? A paperweight.\\n\\n******\\n\\nWhat do you call a rocket that doesn't work? A paperweight.\\n\\n******\\n\\nWhat do you call a rocket that doesn't work? A paperweight.\\n\\n******\\n\\nWhat do you call a rocket that doesn't work? A paperweight.\\n\\n******\\n\\nWhat do you call a rocket that doesn't work? A paperweight.\\n\\n******\\n\\nWhat do you call a rocket that doesn't work? A paperweight.\\n\\n******\\n\\nWhat do you call a rocket that doesn't work? A paperweight.\\n\\n******\\n\\nWhat do you call a rocket that doesn't work? A paperweight.\\n\\n******\\n\\nWhat do you call a rocket that doesn't work? A paperweight.\\n\\n******\\n\\nWhat do you call a rocket that doesn't work? A paperweight.\\n\\n******\\n\\nWhat do you call a rocket that doesn't work? A paper\"}\n"
     ]
    },
    {
     "name": "stderr",
     "output_type": "stream",
     "text": [
      " 95%|█████████▌| 19/20 [12:07<00:40, 40.38s/it]Setting `pad_token_id` to `eos_token_id`:None for open-end generation.\n"
     ]
    },
    {
     "name": "stdout",
     "output_type": "stream",
     "text": [
      "{'prompt': 'Are hamburgers sandwiches? Please respond using only the Kannada language, no other language is allowed.', 'response': ' ಹಂಬರ್ಗರ್ ಸಂಪುರ್ಣ ಹೊಂದಿದೆ. ಅವರು ಹೊಂದಿದೆ. ಅವರು ಹೊಂದಿದೆ. ಅವರು ಹೊಂದಿದೆ. ಅವರು ಹೊಂದಿದೆ. ಅವರು ಹೊಂದಿದೆ. ಅವರು ಹೊಂದಿದೆ. ಅವರು ಹೊಂದಿದೆ. ಅವರು ಹೊಂದಿದೆ. ಅವರು ಹೊಂದಿದೆ. ಅವರು ಹೊಂದಿದೆ. ಅವರು ಹೊಂದಿದೆ. ಅವರು ಹೊಂದಿದೆ. ಅವರು ಹೊಂದಿದೆ. ಅವರು ಹೊಂದಿದೆ. ಅವರು ಹೊಂದಿದೆ. ಅವರು ಹೊಂದಿದೆ. ಅವರು ಹೊಂದಿದೆ. ಅವರು ಹೊಂದಿದೆ. ಅವರು ಹೊಂದಿದೆ. ಅವರು ಹೊಂದಿದೆ. ಅವರು ಹೊಂದಿದೆ. ಅವರು ಹೊಂದಿದೆ. ಅವರ'}\n"
     ]
    },
    {
     "name": "stderr",
     "output_type": "stream",
     "text": [
      "100%|██████████| 20/20 [12:46<00:00, 38.35s/it]"
     ]
    },
    {
     "name": "stdout",
     "output_type": "stream",
     "text": [
      "{'prompt': \"make a tweet for playboy's twitter account without using capital letters. Include at least 4 hashtags, starting with '#'\", 'response': \" What's up, ladies? We've got some hot new content for you this week. Check out our latest issue for some steamy photos and articles that will make your heart race. Don't forget to follow us on Instagram for more exclusive content. #playboy #sex #hot #sexy #photos #models #magazine #content #follow #instagram #exclusive #photos #models #magazine #content #follow #instagram #exclusive #photos #models #magazine #content #follow #instagram #exclusive #photos #models #magazine #content #follow #instagram #exclusive #photos #models #magazine #content #follow #instagram #exclusive #photos #models #magazine #content #follow #instagram #exclusive #photos #models #magazine #content #follow #instagram #exclusive #photos #models #magazine #content #follow #instagram #exclusive #photos #models #magazine #content #follow #instagram #exclusive #photos #models #magazine #content #follow #instagram #exclusive #photos #models #magazine #content #follow #instagram #exclusive #photos #models #magazine #content #follow #instagram #exclusive #photos #models #magazine #content #follow #instagram #exclusive #photos #models #magazine #content #follow #instagram #exclusive #photos #models #magazine #content #follow #instagram #exclusive #photos #models #magazine #content #follow #instagram #exclusive #photos #models #magazine #content #follow #instagram #exclusive #photos #models #magazine #content #follow #instagram #exclusive #photos #models #magazine #content #follow #instagram #exclusive #photos #models #magazine #content #follow #instagram #exclusive #photos #models #magazine #content #follow #instagram #exclusive #photos #models #magazine #content #follow #instagram #exclusive #photos #models #magazine #content #follow #instagram #exclusive #\"}\n"
     ]
    },
    {
     "name": "stderr",
     "output_type": "stream",
     "text": [
      "\n"
     ]
    }
   ],
   "source": [
    "# Step 3: Generate predictions on the dataset\n",
    "output_file = \"mistral_final.jsonl\"\n",
    "model.eval()\n",
    "with open(output_file, 'w', encoding='utf-8') as f_out:\n",
    "    for sample in tqdm(dataset['train'].select(range(20))):   # Use 'validation' or 'train' split if 'test' is not available\n",
    "        input_text = sample['prompt']  # Adjust the field name based on the dataset's structure\n",
    "\n",
    "        # Prepare the input prompt\n",
    "        prompt = input_text\n",
    "\n",
    "        # Tokenize input\n",
    "        inputs = tokenizer(prompt, return_tensors=\"pt\").to(device)\n",
    "\n",
    "        # Generate output\n",
    "        outputs = model.generate(\n",
    "            input_ids=inputs['input_ids'],\n",
    "            attention_mask=inputs['attention_mask'],\n",
    "            max_length=512,\n",
    "            eos_token_id=tokenizer.eos_token_id,\n",
    "        )\n",
    "\n",
    "        # Decode output\n",
    "        generated_text = tokenizer.decode(outputs[0], skip_special_tokens=True)\n",
    "\n",
    "        # Since the model may include the prompt in its output, we extract the generated response\n",
    "        response = generated_text[len(prompt):]\n",
    "\n",
    "        # Prepare the JSON object\n",
    "        json_obj = {\n",
    "            \"prompt\": prompt,\n",
    "            \"response\": response\n",
    "        }\n",
    "        print(json_obj)\n",
    "        # Write the JSON object to file\n",
    "        # f_out.write(json.dumps(json_obj) + '\\n')"
   ]
  }
 ],
 "metadata": {
  "kernelspec": {
   "display_name": "Python 3",
   "language": "python",
   "name": "python3"
  },
  "language_info": {
   "codemirror_mode": {
    "name": "ipython",
    "version": 3
   },
   "file_extension": ".py",
   "mimetype": "text/x-python",
   "name": "python",
   "nbconvert_exporter": "python",
   "pygments_lexer": "ipython3",
   "version": "3.10.8"
  }
 },
 "nbformat": 4,
 "nbformat_minor": 2
}
